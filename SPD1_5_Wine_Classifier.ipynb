{
  "nbformat": 4,
  "nbformat_minor": 0,
  "metadata": {
    "colab": {
      "name": "SPD1.5 Wine Classifier.ipynb",
      "provenance": [],
      "collapsed_sections": []
    },
    "kernelspec": {
      "name": "python3",
      "display_name": "Python 3"
    },
    "language_info": {
      "name": "python"
    }
  },
  "cells": [
    {
      "cell_type": "markdown",
      "metadata": {
        "id": "iIXmL24JGzQl"
      },
      "source": [
        "#Wine Classifier\n",
        "Wine Classifier uses a scikit-learn dataset to create three different classifier models (Random Tree, Support Vector, and Ensemble) that each identify types of wine with varying accuracy to create the most optimized classification model. The data is the results of a chemical analysis of wines grown in the same region in Italy by three different cultivators. There are thirteen different measurements taken for different constituents found in the three types of wine."
      ]
    },
    {
      "cell_type": "markdown",
      "metadata": {
        "id": "Nj30Ow_HGqyk"
      },
      "source": [
        "##Setup"
      ]
    },
    {
      "cell_type": "code",
      "metadata": {
        "id": "l0-82xw37A70"
      },
      "source": [
        "# Python ≥3.5 is required\n",
        "import sys\n",
        "assert sys.version_info >= (3, 5)\n",
        "\n",
        "# Scikit-Learn ≥0.20 is required\n",
        "import sklearn\n",
        "assert sklearn.__version__ >= \"0.20\"\n",
        "\n",
        "# Common imports\n",
        "import numpy as np\n",
        "import seaborn as sns\n",
        "import os\n",
        "from sklearn.tree import DecisionTreeClassifier\n",
        "from sklearn.model_selection import train_test_split\n",
        "from sklearn.preprocessing import MinMaxScaler\n",
        "from sklearn.metrics import mean_squared_error\n",
        "from sklearn.model_selection import cross_val_score\n",
        "from sklearn.model_selection import GridSearchCV\n",
        "\n",
        "# to make this notebook's output stable across runs\n",
        "np.random.seed(42)\n",
        "\n",
        "# To plot pretty figures\n",
        "%matplotlib inline\n",
        "import matplotlib as mpl\n",
        "import matplotlib.pyplot as plt\n",
        "mpl.rc('axes', labelsize=14)\n",
        "mpl.rc('xtick', labelsize=12)\n",
        "mpl.rc('ytick', labelsize=12)"
      ],
      "execution_count": 1,
      "outputs": []
    },
    {
      "cell_type": "markdown",
      "metadata": {
        "id": "olCtnVbhHvx6"
      },
      "source": [
        "##1) Introductory questions\n",
        "**Which data set did you use?**<br>\n",
        "I used scikit-learn's wine recognition dataset obtained [here](https://scikit-learn.org/stable/datasets/toy_dataset.html).\n",
        "\n",
        "**What problem will you solve?**<br>\n",
        "This prediction model will utilize data gathered from the results of a chemical analysis of wines grown in the same region in Italy by three different cultivators and classify them into three different classes.\n",
        "\n",
        "**What are the features and what is the target in your dataset?**<br>\n",
        "The **features** include\n",
        "* Alcohol\n",
        "* Malic acid\n",
        "* Ash\n",
        "* Alcalinity of ash\n",
        "* Magnesium\n",
        "* Total phenols\n",
        "* Flavanoids\n",
        "* Nonflavanoid phenols\n",
        "* Proanthocyanins\n",
        "* Color intensity\n",
        "* Hue\n",
        "* OD280/OD315 of diluted wines\n",
        "* Proline\n",
        "\n",
        "The **target** classes in the dataset are unspecified and will be refered to as\n",
        "* class_0\n",
        "* class_1\n",
        "* class_2"
      ]
    },
    {
      "cell_type": "markdown",
      "metadata": {
        "id": "5vH7grJMJgD9"
      },
      "source": [
        "##2) Baseline Decision Tree model\n",
        "The baseline classification model which will showcase the base processes that the future models will utilize in classifying the wines."
      ]
    },
    {
      "cell_type": "code",
      "metadata": {
        "id": "YKMsmMMgJ9ot"
      },
      "source": [
        "# Imports the wine dataset from scikit-learn and seperates them into training and testing sets\n",
        "from sklearn.datasets import load_wine\n",
        "\n",
        "data = load_wine()\n",
        "X = data.data\n",
        "y = data.target\n",
        "\n",
        "X_train, X_test, y_train, y_test = train_test_split(X, y, test_size=0.2, random_state=42)"
      ],
      "execution_count": 2,
      "outputs": []
    },
    {
      "cell_type": "code",
      "metadata": {
        "colab": {
          "base_uri": "https://localhost:8080/"
        },
        "id": "2_Vdux68KHIg",
        "outputId": "5c232098-a12b-404d-91b0-c290cdfb0c4b"
      },
      "source": [
        "# Outputs the dataset's target class names\n",
        "data.target_names"
      ],
      "execution_count": 3,
      "outputs": [
        {
          "output_type": "execute_result",
          "data": {
            "text/plain": [
              "array(['class_0', 'class_1', 'class_2'], dtype='<U7')"
            ]
          },
          "metadata": {
            "tags": []
          },
          "execution_count": 3
        }
      ]
    },
    {
      "cell_type": "code",
      "metadata": {
        "colab": {
          "base_uri": "https://localhost:8080/"
        },
        "id": "G9fsOwY4Kgq9",
        "outputId": "53125b08-3334-47cd-9540-afb9e4497f0f"
      },
      "source": [
        "# Uses cross referencing to create the best possible Decision Tree Classifier\n",
        "scaler = MinMaxScaler()\n",
        "X_train_scaled = scaler.fit_transform(X_train)\n",
        "\n",
        "model = DecisionTreeClassifier(random_state=42)\n",
        "\n",
        "param_grid = {'min_samples_leaf': [2, 4, 6, 8, 10],\n",
        "               'max_features': [2, 4, 6, 8, 10]}\n",
        "grid = GridSearchCV(model, param_grid)\n",
        "%time grid.fit(X_train_scaled, y_train)\n",
        "print(grid.best_params_)"
      ],
      "execution_count": 4,
      "outputs": [
        {
          "output_type": "stream",
          "text": [
            "CPU times: user 193 ms, sys: 136 µs, total: 193 ms\n",
            "Wall time: 195 ms\n",
            "{'max_features': 6, 'min_samples_leaf': 2}\n"
          ],
          "name": "stdout"
        }
      ]
    },
    {
      "cell_type": "code",
      "metadata": {
        "id": "MR1s9ChxKvPU"
      },
      "source": [
        "# result of tuning the hyperparameters via cross-validation\n",
        "best_model = grid.best_estimator_\n",
        "X_test_scaled = scaler.fit_transform(X_test)\n",
        "yfit = best_model.predict(X_test_scaled)"
      ],
      "execution_count": 5,
      "outputs": []
    },
    {
      "cell_type": "code",
      "metadata": {
        "colab": {
          "base_uri": "https://localhost:8080/"
        },
        "id": "LqeJvT9aKvwM",
        "outputId": "4eeb3287-7315-4db3-c38d-1e6c524ad5d1"
      },
      "source": [
        "# classification report\n",
        "from sklearn.metrics import classification_report\n",
        "print(classification_report(y_test, yfit,\n",
        "                            target_names=data.target_names))"
      ],
      "execution_count": 6,
      "outputs": [
        {
          "output_type": "stream",
          "text": [
            "              precision    recall  f1-score   support\n",
            "\n",
            "     class_0       0.93      1.00      0.97        14\n",
            "     class_1       0.86      0.86      0.86        14\n",
            "     class_2       0.71      0.62      0.67         8\n",
            "\n",
            "    accuracy                           0.86        36\n",
            "   macro avg       0.83      0.83      0.83        36\n",
            "weighted avg       0.86      0.86      0.86        36\n",
            "\n"
          ],
          "name": "stdout"
        }
      ]
    },
    {
      "cell_type": "code",
      "metadata": {
        "colab": {
          "base_uri": "https://localhost:8080/",
          "height": 286
        },
        "id": "PKVVxp2LKxL2",
        "outputId": "9d66d806-eeae-40d2-c601-ea9d6bc4780b"
      },
      "source": [
        "# confusion matrix\n",
        "from sklearn.metrics import confusion_matrix\n",
        "mat = confusion_matrix(y_test, yfit)\n",
        "sns.heatmap(mat.T, square=True, annot=True, fmt='d', cbar=False,\n",
        "            xticklabels=data.target_names,\n",
        "            yticklabels=data.target_names)\n",
        "plt.xlabel('true label')\n",
        "plt.ylabel('predicted label');"
      ],
      "execution_count": 7,
      "outputs": [
        {
          "output_type": "display_data",
          "data": {
            "image/png": "[encoded data removed]",
            "text/plain": [
              "<Figure size 432x288 with 1 Axes>"
            ]
          },
          "metadata": {
            "tags": [],
            "needs_background": "light"
          }
        }
      ]
    },
    {
      "cell_type": "code",
      "metadata": {
        "colab": {
          "base_uri": "https://localhost:8080/",
          "height": 777
        },
        "id": "XfzhjvyMLkMa",
        "outputId": "d5f2cbdb-a11d-443b-eaf1-661866dd50f0"
      },
      "source": [
        "# A visual Decision Tree Model\n",
        "from graphviz import Source\n",
        "from sklearn.tree import export_graphviz\n",
        "export_graphviz(\n",
        "        best_model,\n",
        "        out_file=\"classifier_tree.dot\",\n",
        "        feature_names=data.feature_names,\n",
        "        class_names=data.target_names,\n",
        "        rounded=True,\n",
        "        filled=True\n",
        "    )\n",
        "Source.from_file(\"classifier_tree.dot\")"
      ],
      "execution_count": 8,
      "outputs": [
        {
          "output_type": "execute_result",
          "data": {
            "text/plain": [
              "<graphviz.files.Source at 0x7f5797242190>"
            ],
            "image/svg+xml": "<?xml version=\"1.0\" encoding=\"UTF-8\" standalone=\"no\"?>\n<!DOCTYPE svg PUBLIC \"-//W3C//DTD SVG 1.1//EN\"\n \"http://www.w3.org/Graphics/SVG/1.1/DTD/svg11.dtd\">\n<!-- Generated by graphviz version 2.40.1 (20161225.0304)\n -->\n<!-- Title: Tree Pages: 1 -->\n<svg width=\"1089pt\" height=\"552pt\"\n viewBox=\"0.00 0.00 1089.00 552.00\" xmlns=\"http://www.w3.org/2000/svg\" xmlns:xlink=\"http://www.w3.org/1999/xlink\">\n<g id=\"graph0\" class=\"graph\" transform=\"scale(1 1) rotate(0) translate(4 548)\">\n<title>Tree</title>\n<polygon fill=\"#ffffff\" stroke=\"transparent\" points=\"-4,4 -4,-548 1085,-548 1085,4 -4,4\"/>\n<!-- 0 -->\n<g id=\"node1\" class=\"node\">\n<title>0</title>\n<path fill=\"#e7fcef\" stroke=\"#000000\" d=\"M533.5,-544C533.5,-544 276.5,-544 276.5,-544 270.5,-544 264.5,-538 264.5,-532 264.5,-532 264.5,-473 264.5,-473 264.5,-467 270.5,-461 276.5,-461 276.5,-461 533.5,-461 533.5,-461 539.5,-461 545.5,-467 545.5,-473 545.5,-473 545.5,-532 545.5,-532 545.5,-538 539.5,-544 533.5,-544\"/>\n<text text-anchor=\"middle\" x=\"405\" y=\"-528.8\" font-family=\"Helvetica,sans-Serif\" font-size=\"14.00\" fill=\"#000000\">od280/od315_of_diluted_wines &lt;= 0.337</text>\n<text text-anchor=\"middle\" x=\"405\" y=\"-513.8\" font-family=\"Helvetica,sans-Serif\" font-size=\"14.00\" fill=\"#000000\">gini = 0.659</text>\n<text text-anchor=\"middle\" x=\"405\" y=\"-498.8\" font-family=\"Helvetica,sans-Serif\" font-size=\"14.00\" fill=\"#000000\">samples = 142</text>\n<text text-anchor=\"middle\" x=\"405\" y=\"-483.8\" font-family=\"Helvetica,sans-Serif\" font-size=\"14.00\" fill=\"#000000\">value = [45, 57, 40]</text>\n<text text-anchor=\"middle\" x=\"405\" y=\"-468.8\" font-family=\"Helvetica,sans-Serif\" font-size=\"14.00\" fill=\"#000000\">class = class_1</text>\n</g>\n<!-- 1 -->\n<g id=\"node2\" class=\"node\">\n<title>1</title>\n<path fill=\"#975cea\" stroke=\"#000000\" d=\"M387.5,-425C387.5,-425 268.5,-425 268.5,-425 262.5,-425 256.5,-419 256.5,-413 256.5,-413 256.5,-354 256.5,-354 256.5,-348 262.5,-342 268.5,-342 268.5,-342 387.5,-342 387.5,-342 393.5,-342 399.5,-348 399.5,-354 399.5,-354 399.5,-413 399.5,-413 399.5,-419 393.5,-425 387.5,-425\"/>\n<text text-anchor=\"middle\" x=\"328\" y=\"-409.8\" font-family=\"Helvetica,sans-Serif\" font-size=\"14.00\" fill=\"#000000\">flavanoids &lt;= 0.224</text>\n<text text-anchor=\"middle\" x=\"328\" y=\"-394.8\" font-family=\"Helvetica,sans-Serif\" font-size=\"14.00\" fill=\"#000000\">gini = 0.254</text>\n<text text-anchor=\"middle\" x=\"328\" y=\"-379.8\" font-family=\"Helvetica,sans-Serif\" font-size=\"14.00\" fill=\"#000000\">samples = 47</text>\n<text text-anchor=\"middle\" x=\"328\" y=\"-364.8\" font-family=\"Helvetica,sans-Serif\" font-size=\"14.00\" fill=\"#000000\">value = [0, 7, 40]</text>\n<text text-anchor=\"middle\" x=\"328\" y=\"-349.8\" font-family=\"Helvetica,sans-Serif\" font-size=\"14.00\" fill=\"#000000\">class = class_2</text>\n</g>\n<!-- 0&#45;&gt;1 -->\n<g id=\"edge1\" class=\"edge\">\n<title>0&#45;&gt;1</title>\n<path fill=\"none\" stroke=\"#000000\" d=\"M378.0691,-460.8796C372.4163,-452.1434 366.3967,-442.8404 360.5634,-433.8253\"/>\n<polygon fill=\"#000000\" stroke=\"#000000\" points=\"363.4169,-431.7924 355.0458,-425.2981 357.5399,-435.5952 363.4169,-431.7924\"/>\n<text text-anchor=\"middle\" x=\"349.8076\" y=\"-446.0431\" font-family=\"Helvetica,sans-Serif\" font-size=\"14.00\" fill=\"#000000\">True</text>\n</g>\n<!-- 8 -->\n<g id=\"node9\" class=\"node\">\n<title>8</title>\n<path fill=\"#ebfcf2\" stroke=\"#000000\" d=\"M536.5,-425C536.5,-425 429.5,-425 429.5,-425 423.5,-425 417.5,-419 417.5,-413 417.5,-413 417.5,-354 417.5,-354 417.5,-348 423.5,-342 429.5,-342 429.5,-342 536.5,-342 536.5,-342 542.5,-342 548.5,-348 548.5,-354 548.5,-354 548.5,-413 548.5,-413 548.5,-419 542.5,-425 536.5,-425\"/>\n<text text-anchor=\"middle\" x=\"483\" y=\"-409.8\" font-family=\"Helvetica,sans-Serif\" font-size=\"14.00\" fill=\"#000000\">proline &lt;= 0.353</text>\n<text text-anchor=\"middle\" x=\"483\" y=\"-394.8\" font-family=\"Helvetica,sans-Serif\" font-size=\"14.00\" fill=\"#000000\">gini = 0.499</text>\n<text text-anchor=\"middle\" x=\"483\" y=\"-379.8\" font-family=\"Helvetica,sans-Serif\" font-size=\"14.00\" fill=\"#000000\">samples = 95</text>\n<text text-anchor=\"middle\" x=\"483\" y=\"-364.8\" font-family=\"Helvetica,sans-Serif\" font-size=\"14.00\" fill=\"#000000\">value = [45, 50, 0]</text>\n<text text-anchor=\"middle\" x=\"483\" y=\"-349.8\" font-family=\"Helvetica,sans-Serif\" font-size=\"14.00\" fill=\"#000000\">class = class_1</text>\n</g>\n<!-- 0&#45;&gt;8 -->\n<g id=\"edge8\" class=\"edge\">\n<title>0&#45;&gt;8</title>\n<path fill=\"none\" stroke=\"#000000\" d=\"M432.2806,-460.8796C438.0068,-452.1434 444.1046,-442.8404 450.0137,-433.8253\"/>\n<polygon fill=\"#000000\" stroke=\"#000000\" points=\"453.0482,-435.5803 455.6029,-425.2981 447.1937,-431.7429 453.0482,-435.5803\"/>\n<text text-anchor=\"middle\" x=\"460.6968\" y=\"-446.0736\" font-family=\"Helvetica,sans-Serif\" font-size=\"14.00\" fill=\"#000000\">False</text>\n</g>\n<!-- 2 -->\n<g id=\"node3\" class=\"node\">\n<title>2</title>\n<path fill=\"#8a48e7\" stroke=\"#000000\" d=\"M245,-306C245,-306 123,-306 123,-306 117,-306 111,-300 111,-294 111,-294 111,-235 111,-235 111,-229 117,-223 123,-223 123,-223 245,-223 245,-223 251,-223 257,-229 257,-235 257,-235 257,-294 257,-294 257,-300 251,-306 245,-306\"/>\n<text text-anchor=\"middle\" x=\"184\" y=\"-290.8\" font-family=\"Helvetica,sans-Serif\" font-size=\"14.00\" fill=\"#000000\">malic_acid &lt;= 0.041</text>\n<text text-anchor=\"middle\" x=\"184\" y=\"-275.8\" font-family=\"Helvetica,sans-Serif\" font-size=\"14.00\" fill=\"#000000\">gini = 0.13</text>\n<text text-anchor=\"middle\" x=\"184\" y=\"-260.8\" font-family=\"Helvetica,sans-Serif\" font-size=\"14.00\" fill=\"#000000\">samples = 43</text>\n<text text-anchor=\"middle\" x=\"184\" y=\"-245.8\" font-family=\"Helvetica,sans-Serif\" font-size=\"14.00\" fill=\"#000000\">value = [0, 3, 40]</text>\n<text text-anchor=\"middle\" x=\"184\" y=\"-230.8\" font-family=\"Helvetica,sans-Serif\" font-size=\"14.00\" fill=\"#000000\">class = class_2</text>\n</g>\n<!-- 1&#45;&gt;2 -->\n<g id=\"edge2\" class=\"edge\">\n<title>1&#45;&gt;2</title>\n<path fill=\"none\" stroke=\"#000000\" d=\"M277.6358,-341.8796C266.3015,-332.513 254.1785,-322.4948 242.5419,-312.8784\"/>\n<polygon fill=\"#000000\" stroke=\"#000000\" points=\"244.5173,-309.9703 234.5792,-306.2981 240.0581,-315.3663 244.5173,-309.9703\"/>\n</g>\n<!-- 7 -->\n<g id=\"node8\" class=\"node\">\n<title>7</title>\n<path fill=\"#39e581\" stroke=\"#000000\" d=\"M379,-298.5C379,-298.5 287,-298.5 287,-298.5 281,-298.5 275,-292.5 275,-286.5 275,-286.5 275,-242.5 275,-242.5 275,-236.5 281,-230.5 287,-230.5 287,-230.5 379,-230.5 379,-230.5 385,-230.5 391,-236.5 391,-242.5 391,-242.5 391,-286.5 391,-286.5 391,-292.5 385,-298.5 379,-298.5\"/>\n<text text-anchor=\"middle\" x=\"333\" y=\"-283.3\" font-family=\"Helvetica,sans-Serif\" font-size=\"14.00\" fill=\"#000000\">gini = 0.0</text>\n<text text-anchor=\"middle\" x=\"333\" y=\"-268.3\" font-family=\"Helvetica,sans-Serif\" font-size=\"14.00\" fill=\"#000000\">samples = 4</text>\n<text text-anchor=\"middle\" x=\"333\" y=\"-253.3\" font-family=\"Helvetica,sans-Serif\" font-size=\"14.00\" fill=\"#000000\">value = [0, 4, 0]</text>\n<text text-anchor=\"middle\" x=\"333\" y=\"-238.3\" font-family=\"Helvetica,sans-Serif\" font-size=\"14.00\" fill=\"#000000\">class = class_1</text>\n</g>\n<!-- 1&#45;&gt;7 -->\n<g id=\"edge7\" class=\"edge\">\n<title>1&#45;&gt;7</title>\n<path fill=\"none\" stroke=\"#000000\" d=\"M329.7488,-341.8796C330.1969,-331.2134 330.6806,-319.7021 331.1344,-308.9015\"/>\n<polygon fill=\"#000000\" stroke=\"#000000\" points=\"334.6352,-308.9531 331.5582,-298.8149 327.6414,-308.6592 334.6352,-308.9531\"/>\n</g>\n<!-- 3 -->\n<g id=\"node4\" class=\"node\">\n<title>3</title>\n<path fill=\"#39e581\" stroke=\"#000000\" d=\"M104,-179.5C104,-179.5 12,-179.5 12,-179.5 6,-179.5 0,-173.5 0,-167.5 0,-167.5 0,-123.5 0,-123.5 0,-117.5 6,-111.5 12,-111.5 12,-111.5 104,-111.5 104,-111.5 110,-111.5 116,-117.5 116,-123.5 116,-123.5 116,-167.5 116,-167.5 116,-173.5 110,-179.5 104,-179.5\"/>\n<text text-anchor=\"middle\" x=\"58\" y=\"-164.3\" font-family=\"Helvetica,sans-Serif\" font-size=\"14.00\" fill=\"#000000\">gini = 0.0</text>\n<text text-anchor=\"middle\" x=\"58\" y=\"-149.3\" font-family=\"Helvetica,sans-Serif\" font-size=\"14.00\" fill=\"#000000\">samples = 2</text>\n<text text-anchor=\"middle\" x=\"58\" y=\"-134.3\" font-family=\"Helvetica,sans-Serif\" font-size=\"14.00\" fill=\"#000000\">value = [0, 2, 0]</text>\n<text text-anchor=\"middle\" x=\"58\" y=\"-119.3\" font-family=\"Helvetica,sans-Serif\" font-size=\"14.00\" fill=\"#000000\">class = class_1</text>\n</g>\n<!-- 2&#45;&gt;3 -->\n<g id=\"edge3\" class=\"edge\">\n<title>2&#45;&gt;3</title>\n<path fill=\"none\" stroke=\"#000000\" d=\"M139.9313,-222.8796C127.5898,-211.2237 114.1798,-198.5587 101.851,-186.9148\"/>\n<polygon fill=\"#000000\" stroke=\"#000000\" points=\"104.0068,-184.1366 94.3335,-179.8149 99.2004,-189.2258 104.0068,-184.1366\"/>\n</g>\n<!-- 4 -->\n<g id=\"node5\" class=\"node\">\n<title>4</title>\n<path fill=\"#843ee6\" stroke=\"#000000\" d=\"M245.5,-187C245.5,-187 146.5,-187 146.5,-187 140.5,-187 134.5,-181 134.5,-175 134.5,-175 134.5,-116 134.5,-116 134.5,-110 140.5,-104 146.5,-104 146.5,-104 245.5,-104 245.5,-104 251.5,-104 257.5,-110 257.5,-116 257.5,-116 257.5,-175 257.5,-175 257.5,-181 251.5,-187 245.5,-187\"/>\n<text text-anchor=\"middle\" x=\"196\" y=\"-171.8\" font-family=\"Helvetica,sans-Serif\" font-size=\"14.00\" fill=\"#000000\">proline &lt;= 0.461</text>\n<text text-anchor=\"middle\" x=\"196\" y=\"-156.8\" font-family=\"Helvetica,sans-Serif\" font-size=\"14.00\" fill=\"#000000\">gini = 0.048</text>\n<text text-anchor=\"middle\" x=\"196\" y=\"-141.8\" font-family=\"Helvetica,sans-Serif\" font-size=\"14.00\" fill=\"#000000\">samples = 41</text>\n<text text-anchor=\"middle\" x=\"196\" y=\"-126.8\" font-family=\"Helvetica,sans-Serif\" font-size=\"14.00\" fill=\"#000000\">value = [0, 1, 40]</text>\n<text text-anchor=\"middle\" x=\"196\" y=\"-111.8\" font-family=\"Helvetica,sans-Serif\" font-size=\"14.00\" fill=\"#000000\">class = class_2</text>\n</g>\n<!-- 2&#45;&gt;4 -->\n<g id=\"edge4\" class=\"edge\">\n<title>2&#45;&gt;4</title>\n<path fill=\"none\" stroke=\"#000000\" d=\"M188.197,-222.8796C189.0235,-214.6838 189.9003,-205.9891 190.7562,-197.5013\"/>\n<polygon fill=\"#000000\" stroke=\"#000000\" points=\"194.264,-197.5988 191.7851,-187.2981 187.2993,-196.8964 194.264,-197.5988\"/>\n</g>\n<!-- 5 -->\n<g id=\"node6\" class=\"node\">\n<title>5</title>\n<path fill=\"#8139e5\" stroke=\"#000000\" d=\"M117.5,-68C117.5,-68 18.5,-68 18.5,-68 12.5,-68 6.5,-62 6.5,-56 6.5,-56 6.5,-12 6.5,-12 6.5,-6 12.5,0 18.5,0 18.5,0 117.5,0 117.5,0 123.5,0 129.5,-6 129.5,-12 129.5,-12 129.5,-56 129.5,-56 129.5,-62 123.5,-68 117.5,-68\"/>\n<text text-anchor=\"middle\" x=\"68\" y=\"-52.8\" font-family=\"Helvetica,sans-Serif\" font-size=\"14.00\" fill=\"#000000\">gini = 0.0</text>\n<text text-anchor=\"middle\" x=\"68\" y=\"-37.8\" font-family=\"Helvetica,sans-Serif\" font-size=\"14.00\" fill=\"#000000\">samples = 39</text>\n<text text-anchor=\"middle\" x=\"68\" y=\"-22.8\" font-family=\"Helvetica,sans-Serif\" font-size=\"14.00\" fill=\"#000000\">value = [0, 0, 39]</text>\n<text text-anchor=\"middle\" x=\"68\" y=\"-7.8\" font-family=\"Helvetica,sans-Serif\" font-size=\"14.00\" fill=\"#000000\">class = class_2</text>\n</g>\n<!-- 4&#45;&gt;5 -->\n<g id=\"edge5\" class=\"edge\">\n<title>4&#45;&gt;5</title>\n<path fill=\"none\" stroke=\"#000000\" d=\"M148.3375,-103.9815C137.4703,-94.5151 125.9295,-84.462 115.0865,-75.0168\"/>\n<polygon fill=\"#000000\" stroke=\"#000000\" points=\"117.1734,-72.1929 107.3341,-68.2637 112.5755,-77.4712 117.1734,-72.1929\"/>\n</g>\n<!-- 6 -->\n<g id=\"node7\" class=\"node\">\n<title>6</title>\n<path fill=\"#ffffff\" stroke=\"#000000\" d=\"M252,-68C252,-68 160,-68 160,-68 154,-68 148,-62 148,-56 148,-56 148,-12 148,-12 148,-6 154,0 160,0 160,0 252,0 252,0 258,0 264,-6 264,-12 264,-12 264,-56 264,-56 264,-62 258,-68 252,-68\"/>\n<text text-anchor=\"middle\" x=\"206\" y=\"-52.8\" font-family=\"Helvetica,sans-Serif\" font-size=\"14.00\" fill=\"#000000\">gini = 0.5</text>\n<text text-anchor=\"middle\" x=\"206\" y=\"-37.8\" font-family=\"Helvetica,sans-Serif\" font-size=\"14.00\" fill=\"#000000\">samples = 2</text>\n<text text-anchor=\"middle\" x=\"206\" y=\"-22.8\" font-family=\"Helvetica,sans-Serif\" font-size=\"14.00\" fill=\"#000000\">value = [0, 1, 1]</text>\n<text text-anchor=\"middle\" x=\"206\" y=\"-7.8\" font-family=\"Helvetica,sans-Serif\" font-size=\"14.00\" fill=\"#000000\">class = class_1</text>\n</g>\n<!-- 4&#45;&gt;6 -->\n<g id=\"edge6\" class=\"edge\">\n<title>4&#45;&gt;6</title>\n<path fill=\"none\" stroke=\"#000000\" d=\"M199.7236,-103.9815C200.4737,-95.618 201.2649,-86.7965 202.0232,-78.3409\"/>\n<polygon fill=\"#000000\" stroke=\"#000000\" points=\"205.5197,-78.5364 202.927,-68.2637 198.5477,-77.911 205.5197,-78.5364\"/>\n</g>\n<!-- 9 -->\n<g id=\"node10\" class=\"node\">\n<title>9</title>\n<path fill=\"#3de684\" stroke=\"#000000\" d=\"M529,-306C529,-306 429,-306 429,-306 423,-306 417,-300 417,-294 417,-294 417,-235 417,-235 417,-229 423,-223 429,-223 429,-223 529,-223 529,-223 535,-223 541,-229 541,-235 541,-235 541,-294 541,-294 541,-300 535,-306 529,-306\"/>\n<text text-anchor=\"middle\" x=\"479\" y=\"-290.8\" font-family=\"Helvetica,sans-Serif\" font-size=\"14.00\" fill=\"#000000\">alcohol &lt;= 0.557</text>\n<text text-anchor=\"middle\" x=\"479\" y=\"-275.8\" font-family=\"Helvetica,sans-Serif\" font-size=\"14.00\" fill=\"#000000\">gini = 0.042</text>\n<text text-anchor=\"middle\" x=\"479\" y=\"-260.8\" font-family=\"Helvetica,sans-Serif\" font-size=\"14.00\" fill=\"#000000\">samples = 47</text>\n<text text-anchor=\"middle\" x=\"479\" y=\"-245.8\" font-family=\"Helvetica,sans-Serif\" font-size=\"14.00\" fill=\"#000000\">value = [1, 46, 0]</text>\n<text text-anchor=\"middle\" x=\"479\" y=\"-230.8\" font-family=\"Helvetica,sans-Serif\" font-size=\"14.00\" fill=\"#000000\">class = class_1</text>\n</g>\n<!-- 8&#45;&gt;9 -->\n<g id=\"edge9\" class=\"edge\">\n<title>8&#45;&gt;9</title>\n<path fill=\"none\" stroke=\"#000000\" d=\"M481.601,-341.8796C481.3255,-333.6838 481.0332,-324.9891 480.7479,-316.5013\"/>\n<polygon fill=\"#000000\" stroke=\"#000000\" points=\"484.239,-316.1748 480.405,-306.2981 477.243,-316.41 484.239,-316.1748\"/>\n</g>\n<!-- 14 -->\n<g id=\"node15\" class=\"node\">\n<title>14</title>\n<path fill=\"#e78c4b\" stroke=\"#000000\" d=\"M732.5,-306C732.5,-306 613.5,-306 613.5,-306 607.5,-306 601.5,-300 601.5,-294 601.5,-294 601.5,-235 601.5,-235 601.5,-229 607.5,-223 613.5,-223 613.5,-223 732.5,-223 732.5,-223 738.5,-223 744.5,-229 744.5,-235 744.5,-235 744.5,-294 744.5,-294 744.5,-300 738.5,-306 732.5,-306\"/>\n<text text-anchor=\"middle\" x=\"673\" y=\"-290.8\" font-family=\"Helvetica,sans-Serif\" font-size=\"14.00\" fill=\"#000000\">flavanoids &lt;= 0.418</text>\n<text text-anchor=\"middle\" x=\"673\" y=\"-275.8\" font-family=\"Helvetica,sans-Serif\" font-size=\"14.00\" fill=\"#000000\">gini = 0.153</text>\n<text text-anchor=\"middle\" x=\"673\" y=\"-260.8\" font-family=\"Helvetica,sans-Serif\" font-size=\"14.00\" fill=\"#000000\">samples = 48</text>\n<text text-anchor=\"middle\" x=\"673\" y=\"-245.8\" font-family=\"Helvetica,sans-Serif\" font-size=\"14.00\" fill=\"#000000\">value = [44, 4, 0]</text>\n<text text-anchor=\"middle\" x=\"673\" y=\"-230.8\" font-family=\"Helvetica,sans-Serif\" font-size=\"14.00\" fill=\"#000000\">class = class_0</text>\n</g>\n<!-- 8&#45;&gt;14 -->\n<g id=\"edge14\" class=\"edge\">\n<title>8&#45;&gt;14</title>\n<path fill=\"none\" stroke=\"#000000\" d=\"M548.6533,-342.3803C564.4913,-332.4607 581.5361,-321.7853 597.7744,-311.615\"/>\n<polygon fill=\"#000000\" stroke=\"#000000\" points=\"600.0827,-314.2991 606.6999,-306.0248 596.3671,-308.3666 600.0827,-314.2991\"/>\n</g>\n<!-- 10 -->\n<g id=\"node11\" class=\"node\">\n<title>10</title>\n<path fill=\"#39e581\" stroke=\"#000000\" d=\"M390.5,-179.5C390.5,-179.5 291.5,-179.5 291.5,-179.5 285.5,-179.5 279.5,-173.5 279.5,-167.5 279.5,-167.5 279.5,-123.5 279.5,-123.5 279.5,-117.5 285.5,-111.5 291.5,-111.5 291.5,-111.5 390.5,-111.5 390.5,-111.5 396.5,-111.5 402.5,-117.5 402.5,-123.5 402.5,-123.5 402.5,-167.5 402.5,-167.5 402.5,-173.5 396.5,-179.5 390.5,-179.5\"/>\n<text text-anchor=\"middle\" x=\"341\" y=\"-164.3\" font-family=\"Helvetica,sans-Serif\" font-size=\"14.00\" fill=\"#000000\">gini = 0.0</text>\n<text text-anchor=\"middle\" x=\"341\" y=\"-149.3\" font-family=\"Helvetica,sans-Serif\" font-size=\"14.00\" fill=\"#000000\">samples = 43</text>\n<text text-anchor=\"middle\" x=\"341\" y=\"-134.3\" font-family=\"Helvetica,sans-Serif\" font-size=\"14.00\" fill=\"#000000\">value = [0, 43, 0]</text>\n<text text-anchor=\"middle\" x=\"341\" y=\"-119.3\" font-family=\"Helvetica,sans-Serif\" font-size=\"14.00\" fill=\"#000000\">class = class_1</text>\n</g>\n<!-- 9&#45;&gt;10 -->\n<g id=\"edge10\" class=\"edge\">\n<title>9&#45;&gt;10</title>\n<path fill=\"none\" stroke=\"#000000\" d=\"M430.7343,-222.8796C417.0899,-211.1138 402.2531,-198.3197 388.6454,-186.5855\"/>\n<polygon fill=\"#000000\" stroke=\"#000000\" points=\"390.6527,-183.6948 380.7938,-179.8149 386.0813,-188.9961 390.6527,-183.6948\"/>\n</g>\n<!-- 11 -->\n<g id=\"node12\" class=\"node\">\n<title>11</title>\n<path fill=\"#7beeab\" stroke=\"#000000\" d=\"M525,-187C525,-187 433,-187 433,-187 427,-187 421,-181 421,-175 421,-175 421,-116 421,-116 421,-110 427,-104 433,-104 433,-104 525,-104 525,-104 531,-104 537,-110 537,-116 537,-116 537,-175 537,-175 537,-181 531,-187 525,-187\"/>\n<text text-anchor=\"middle\" x=\"479\" y=\"-171.8\" font-family=\"Helvetica,sans-Serif\" font-size=\"14.00\" fill=\"#000000\">ash &lt;= 0.484</text>\n<text text-anchor=\"middle\" x=\"479\" y=\"-156.8\" font-family=\"Helvetica,sans-Serif\" font-size=\"14.00\" fill=\"#000000\">gini = 0.375</text>\n<text text-anchor=\"middle\" x=\"479\" y=\"-141.8\" font-family=\"Helvetica,sans-Serif\" font-size=\"14.00\" fill=\"#000000\">samples = 4</text>\n<text text-anchor=\"middle\" x=\"479\" y=\"-126.8\" font-family=\"Helvetica,sans-Serif\" font-size=\"14.00\" fill=\"#000000\">value = [1, 3, 0]</text>\n<text text-anchor=\"middle\" x=\"479\" y=\"-111.8\" font-family=\"Helvetica,sans-Serif\" font-size=\"14.00\" fill=\"#000000\">class = class_1</text>\n</g>\n<!-- 9&#45;&gt;11 -->\n<g id=\"edge11\" class=\"edge\">\n<title>9&#45;&gt;11</title>\n<path fill=\"none\" stroke=\"#000000\" d=\"M479,-222.8796C479,-214.6838 479,-205.9891 479,-197.5013\"/>\n<polygon fill=\"#000000\" stroke=\"#000000\" points=\"482.5001,-197.298 479,-187.2981 475.5001,-197.2981 482.5001,-197.298\"/>\n</g>\n<!-- 12 -->\n<g id=\"node13\" class=\"node\">\n<title>12</title>\n<path fill=\"#39e581\" stroke=\"#000000\" d=\"M391,-68C391,-68 299,-68 299,-68 293,-68 287,-62 287,-56 287,-56 287,-12 287,-12 287,-6 293,0 299,0 299,0 391,0 391,0 397,0 403,-6 403,-12 403,-12 403,-56 403,-56 403,-62 397,-68 391,-68\"/>\n<text text-anchor=\"middle\" x=\"345\" y=\"-52.8\" font-family=\"Helvetica,sans-Serif\" font-size=\"14.00\" fill=\"#000000\">gini = 0.0</text>\n<text text-anchor=\"middle\" x=\"345\" y=\"-37.8\" font-family=\"Helvetica,sans-Serif\" font-size=\"14.00\" fill=\"#000000\">samples = 2</text>\n<text text-anchor=\"middle\" x=\"345\" y=\"-22.8\" font-family=\"Helvetica,sans-Serif\" font-size=\"14.00\" fill=\"#000000\">value = [0, 2, 0]</text>\n<text text-anchor=\"middle\" x=\"345\" y=\"-7.8\" font-family=\"Helvetica,sans-Serif\" font-size=\"14.00\" fill=\"#000000\">class = class_1</text>\n</g>\n<!-- 11&#45;&gt;12 -->\n<g id=\"edge12\" class=\"edge\">\n<title>11&#45;&gt;12</title>\n<path fill=\"none\" stroke=\"#000000\" d=\"M429.1033,-103.9815C417.6162,-94.4232 405.4103,-84.2668 393.9633,-74.7419\"/>\n<polygon fill=\"#000000\" stroke=\"#000000\" points=\"396.1035,-71.9695 386.1779,-68.2637 391.6261,-77.3503 396.1035,-71.9695\"/>\n</g>\n<!-- 13 -->\n<g id=\"node14\" class=\"node\">\n<title>13</title>\n<path fill=\"#ffffff\" stroke=\"#000000\" d=\"M525,-68C525,-68 433,-68 433,-68 427,-68 421,-62 421,-56 421,-56 421,-12 421,-12 421,-6 427,0 433,0 433,0 525,0 525,0 531,0 537,-6 537,-12 537,-12 537,-56 537,-56 537,-62 531,-68 525,-68\"/>\n<text text-anchor=\"middle\" x=\"479\" y=\"-52.8\" font-family=\"Helvetica,sans-Serif\" font-size=\"14.00\" fill=\"#000000\">gini = 0.5</text>\n<text text-anchor=\"middle\" x=\"479\" y=\"-37.8\" font-family=\"Helvetica,sans-Serif\" font-size=\"14.00\" fill=\"#000000\">samples = 2</text>\n<text text-anchor=\"middle\" x=\"479\" y=\"-22.8\" font-family=\"Helvetica,sans-Serif\" font-size=\"14.00\" fill=\"#000000\">value = [1, 1, 0]</text>\n<text text-anchor=\"middle\" x=\"479\" y=\"-7.8\" font-family=\"Helvetica,sans-Serif\" font-size=\"14.00\" fill=\"#000000\">class = class_0</text>\n</g>\n<!-- 11&#45;&gt;13 -->\n<g id=\"edge13\" class=\"edge\">\n<title>11&#45;&gt;13</title>\n<path fill=\"none\" stroke=\"#000000\" d=\"M479,-103.9815C479,-95.618 479,-86.7965 479,-78.3409\"/>\n<polygon fill=\"#000000\" stroke=\"#000000\" points=\"482.5001,-78.2636 479,-68.2637 475.5001,-78.2637 482.5001,-78.2636\"/>\n</g>\n<!-- 15 -->\n<g id=\"node16\" class=\"node\">\n<title>15</title>\n<path fill=\"#7beeab\" stroke=\"#000000\" d=\"M737.5,-187C737.5,-187 608.5,-187 608.5,-187 602.5,-187 596.5,-181 596.5,-175 596.5,-175 596.5,-116 596.5,-116 596.5,-110 602.5,-104 608.5,-104 608.5,-104 737.5,-104 737.5,-104 743.5,-104 749.5,-110 749.5,-116 749.5,-116 749.5,-175 749.5,-175 749.5,-181 743.5,-187 737.5,-187\"/>\n<text text-anchor=\"middle\" x=\"673\" y=\"-171.8\" font-family=\"Helvetica,sans-Serif\" font-size=\"14.00\" fill=\"#000000\">magnesium &lt;= 0.527</text>\n<text text-anchor=\"middle\" x=\"673\" y=\"-156.8\" font-family=\"Helvetica,sans-Serif\" font-size=\"14.00\" fill=\"#000000\">gini = 0.375</text>\n<text text-anchor=\"middle\" x=\"673\" y=\"-141.8\" font-family=\"Helvetica,sans-Serif\" font-size=\"14.00\" fill=\"#000000\">samples = 4</text>\n<text text-anchor=\"middle\" x=\"673\" y=\"-126.8\" font-family=\"Helvetica,sans-Serif\" font-size=\"14.00\" fill=\"#000000\">value = [1, 3, 0]</text>\n<text text-anchor=\"middle\" x=\"673\" y=\"-111.8\" font-family=\"Helvetica,sans-Serif\" font-size=\"14.00\" fill=\"#000000\">class = class_1</text>\n</g>\n<!-- 14&#45;&gt;15 -->\n<g id=\"edge15\" class=\"edge\">\n<title>14&#45;&gt;15</title>\n<path fill=\"none\" stroke=\"#000000\" d=\"M673,-222.8796C673,-214.6838 673,-205.9891 673,-197.5013\"/>\n<polygon fill=\"#000000\" stroke=\"#000000\" points=\"676.5001,-197.298 673,-187.2981 669.5001,-197.2981 676.5001,-197.298\"/>\n</g>\n<!-- 18 -->\n<g id=\"node19\" class=\"node\">\n<title>18</title>\n<path fill=\"#e6843e\" stroke=\"#000000\" d=\"M949.5,-187C949.5,-187 820.5,-187 820.5,-187 814.5,-187 808.5,-181 808.5,-175 808.5,-175 808.5,-116 808.5,-116 808.5,-110 814.5,-104 820.5,-104 820.5,-104 949.5,-104 949.5,-104 955.5,-104 961.5,-110 961.5,-116 961.5,-116 961.5,-175 961.5,-175 961.5,-181 955.5,-187 949.5,-187\"/>\n<text text-anchor=\"middle\" x=\"885\" y=\"-171.8\" font-family=\"Helvetica,sans-Serif\" font-size=\"14.00\" fill=\"#000000\">magnesium &lt;= 0.652</text>\n<text text-anchor=\"middle\" x=\"885\" y=\"-156.8\" font-family=\"Helvetica,sans-Serif\" font-size=\"14.00\" fill=\"#000000\">gini = 0.044</text>\n<text text-anchor=\"middle\" x=\"885\" y=\"-141.8\" font-family=\"Helvetica,sans-Serif\" font-size=\"14.00\" fill=\"#000000\">samples = 44</text>\n<text text-anchor=\"middle\" x=\"885\" y=\"-126.8\" font-family=\"Helvetica,sans-Serif\" font-size=\"14.00\" fill=\"#000000\">value = [43, 1, 0]</text>\n<text text-anchor=\"middle\" x=\"885\" y=\"-111.8\" font-family=\"Helvetica,sans-Serif\" font-size=\"14.00\" fill=\"#000000\">class = class_0</text>\n</g>\n<!-- 14&#45;&gt;18 -->\n<g id=\"edge18\" class=\"edge\">\n<title>14&#45;&gt;18</title>\n<path fill=\"none\" stroke=\"#000000\" d=\"M744.7735,-224.212C763.1284,-213.9091 783.017,-202.7452 801.8892,-192.1518\"/>\n<polygon fill=\"#000000\" stroke=\"#000000\" points=\"803.762,-195.1143 810.7689,-187.1674 800.3356,-189.0102 803.762,-195.1143\"/>\n</g>\n<!-- 16 -->\n<g id=\"node17\" class=\"node\">\n<title>16</title>\n<path fill=\"#ffffff\" stroke=\"#000000\" d=\"M659,-68C659,-68 567,-68 567,-68 561,-68 555,-62 555,-56 555,-56 555,-12 555,-12 555,-6 561,0 567,0 567,0 659,0 659,0 665,0 671,-6 671,-12 671,-12 671,-56 671,-56 671,-62 665,-68 659,-68\"/>\n<text text-anchor=\"middle\" x=\"613\" y=\"-52.8\" font-family=\"Helvetica,sans-Serif\" font-size=\"14.00\" fill=\"#000000\">gini = 0.5</text>\n<text text-anchor=\"middle\" x=\"613\" y=\"-37.8\" font-family=\"Helvetica,sans-Serif\" font-size=\"14.00\" fill=\"#000000\">samples = 2</text>\n<text text-anchor=\"middle\" x=\"613\" y=\"-22.8\" font-family=\"Helvetica,sans-Serif\" font-size=\"14.00\" fill=\"#000000\">value = [1, 1, 0]</text>\n<text text-anchor=\"middle\" x=\"613\" y=\"-7.8\" font-family=\"Helvetica,sans-Serif\" font-size=\"14.00\" fill=\"#000000\">class = class_0</text>\n</g>\n<!-- 15&#45;&gt;16 -->\n<g id=\"edge16\" class=\"edge\">\n<title>15&#45;&gt;16</title>\n<path fill=\"none\" stroke=\"#000000\" d=\"M650.6582,-103.9815C645.9598,-95.2504 640.9929,-86.0202 636.2617,-77.2281\"/>\n<polygon fill=\"#000000\" stroke=\"#000000\" points=\"639.2586,-75.4111 631.4379,-68.2637 633.0944,-78.7282 639.2586,-75.4111\"/>\n</g>\n<!-- 17 -->\n<g id=\"node18\" class=\"node\">\n<title>17</title>\n<path fill=\"#39e581\" stroke=\"#000000\" d=\"M793,-68C793,-68 701,-68 701,-68 695,-68 689,-62 689,-56 689,-56 689,-12 689,-12 689,-6 695,0 701,0 701,0 793,0 793,0 799,0 805,-6 805,-12 805,-12 805,-56 805,-56 805,-62 799,-68 793,-68\"/>\n<text text-anchor=\"middle\" x=\"747\" y=\"-52.8\" font-family=\"Helvetica,sans-Serif\" font-size=\"14.00\" fill=\"#000000\">gini = 0.0</text>\n<text text-anchor=\"middle\" x=\"747\" y=\"-37.8\" font-family=\"Helvetica,sans-Serif\" font-size=\"14.00\" fill=\"#000000\">samples = 2</text>\n<text text-anchor=\"middle\" x=\"747\" y=\"-22.8\" font-family=\"Helvetica,sans-Serif\" font-size=\"14.00\" fill=\"#000000\">value = [0, 2, 0]</text>\n<text text-anchor=\"middle\" x=\"747\" y=\"-7.8\" font-family=\"Helvetica,sans-Serif\" font-size=\"14.00\" fill=\"#000000\">class = class_1</text>\n</g>\n<!-- 15&#45;&gt;17 -->\n<g id=\"edge17\" class=\"edge\">\n<title>15&#45;&gt;17</title>\n<path fill=\"none\" stroke=\"#000000\" d=\"M700.5549,-103.9815C706.4715,-95.0666 712.7335,-85.6313 718.6787,-76.6734\"/>\n<polygon fill=\"#000000\" stroke=\"#000000\" points=\"721.6464,-78.5311 724.26,-68.2637 715.814,-74.6602 721.6464,-78.5311\"/>\n</g>\n<!-- 19 -->\n<g id=\"node20\" class=\"node\">\n<title>19</title>\n<path fill=\"#e58139\" stroke=\"#000000\" d=\"M934.5,-68C934.5,-68 835.5,-68 835.5,-68 829.5,-68 823.5,-62 823.5,-56 823.5,-56 823.5,-12 823.5,-12 823.5,-6 829.5,0 835.5,0 835.5,0 934.5,0 934.5,0 940.5,0 946.5,-6 946.5,-12 946.5,-12 946.5,-56 946.5,-56 946.5,-62 940.5,-68 934.5,-68\"/>\n<text text-anchor=\"middle\" x=\"885\" y=\"-52.8\" font-family=\"Helvetica,sans-Serif\" font-size=\"14.00\" fill=\"#000000\">gini = 0.0</text>\n<text text-anchor=\"middle\" x=\"885\" y=\"-37.8\" font-family=\"Helvetica,sans-Serif\" font-size=\"14.00\" fill=\"#000000\">samples = 42</text>\n<text text-anchor=\"middle\" x=\"885\" y=\"-22.8\" font-family=\"Helvetica,sans-Serif\" font-size=\"14.00\" fill=\"#000000\">value = [42, 0, 0]</text>\n<text text-anchor=\"middle\" x=\"885\" y=\"-7.8\" font-family=\"Helvetica,sans-Serif\" font-size=\"14.00\" fill=\"#000000\">class = class_0</text>\n</g>\n<!-- 18&#45;&gt;19 -->\n<g id=\"edge19\" class=\"edge\">\n<title>18&#45;&gt;19</title>\n<path fill=\"none\" stroke=\"#000000\" d=\"M885,-103.9815C885,-95.618 885,-86.7965 885,-78.3409\"/>\n<polygon fill=\"#000000\" stroke=\"#000000\" points=\"888.5001,-78.2636 885,-68.2637 881.5001,-78.2637 888.5001,-78.2636\"/>\n</g>\n<!-- 20 -->\n<g id=\"node21\" class=\"node\">\n<title>20</title>\n<path fill=\"#ffffff\" stroke=\"#000000\" d=\"M1069,-68C1069,-68 977,-68 977,-68 971,-68 965,-62 965,-56 965,-56 965,-12 965,-12 965,-6 971,0 977,0 977,0 1069,0 1069,0 1075,0 1081,-6 1081,-12 1081,-12 1081,-56 1081,-56 1081,-62 1075,-68 1069,-68\"/>\n<text text-anchor=\"middle\" x=\"1023\" y=\"-52.8\" font-family=\"Helvetica,sans-Serif\" font-size=\"14.00\" fill=\"#000000\">gini = 0.5</text>\n<text text-anchor=\"middle\" x=\"1023\" y=\"-37.8\" font-family=\"Helvetica,sans-Serif\" font-size=\"14.00\" fill=\"#000000\">samples = 2</text>\n<text text-anchor=\"middle\" x=\"1023\" y=\"-22.8\" font-family=\"Helvetica,sans-Serif\" font-size=\"14.00\" fill=\"#000000\">value = [1, 1, 0]</text>\n<text text-anchor=\"middle\" x=\"1023\" y=\"-7.8\" font-family=\"Helvetica,sans-Serif\" font-size=\"14.00\" fill=\"#000000\">class = class_0</text>\n</g>\n<!-- 18&#45;&gt;20 -->\n<g id=\"edge20\" class=\"edge\">\n<title>18&#45;&gt;20</title>\n<path fill=\"none\" stroke=\"#000000\" d=\"M936.3861,-103.9815C948.2161,-94.4232 960.7864,-84.2668 972.5751,-74.7419\"/>\n<polygon fill=\"#000000\" stroke=\"#000000\" points=\"975.0142,-77.2708 980.5929,-68.2637 970.6149,-71.826 975.0142,-77.2708\"/>\n</g>\n</g>\n</svg>\n"
          },
          "metadata": {
            "tags": []
          },
          "execution_count": 8
        }
      ]
    },
    {
      "cell_type": "markdown",
      "metadata": {
        "id": "kSY7lYd5L9Xf"
      },
      "source": [
        "###2.1) Conclusions\n",
        "*   Best model utilizes {'max_features': 6, 'min_samples_leaf': 2}\n",
        "*   Accuracy of model: 0.86\n",
        "*   Precision* of model: 0.93(class_0), 0.86(class_1), 0.71(class_2)\n",
        "*   Recall** of model: 1.00(class_0), 0.86(class_1), 0.62(class_2)\n",
        "\n",
        "According to our classification report, our model has an 86% accuracy which is alright.  The confusion matrix tells us that our model could correctly predict 14 out of 14 wines in class_0, 12 out of 14 wines in class_1, and 5 out of 8 wines in class_2.<br>\n",
        "\n",
        "\\*Percentage of correct guesses out of total guesses made onto that target class</br>\n",
        "\\**Percentage of correct guesses out of total elements in that target class"
      ]
    },
    {
      "cell_type": "markdown",
      "metadata": {
        "id": "NH8n_qVvPOiC"
      },
      "source": [
        "##3) Random Forest model\n",
        "Random Forest models operates by constructing a multitude of decision trees at training time. For these classification tasks, the output of the random forest is the class selected by most trees."
      ]
    },
    {
      "cell_type": "code",
      "metadata": {
        "id": "LShtEnxoPMNn"
      },
      "source": [
        "# same setup as the previous model\n",
        "X = data.data\n",
        "y = data.target\n",
        "\n",
        "X_train, X_test, y_train, y_test = train_test_split(X, y, test_size=0.4, random_state=42)"
      ],
      "execution_count": 9,
      "outputs": []
    },
    {
      "cell_type": "code",
      "metadata": {
        "colab": {
          "base_uri": "https://localhost:8080/"
        },
        "id": "HAWYBuHkPRj4",
        "outputId": "33b802a2-2513-45ca-b001-02224544fe26"
      },
      "source": [
        "from sklearn.ensemble import RandomForestClassifier\n",
        "scaler = MinMaxScaler()\n",
        "X_train_scaled = scaler.fit_transform(X_train)\n",
        "\n",
        "forest_model = RandomForestClassifier(random_state=42)\n",
        "\n",
        "param_grid = {'min_samples_leaf': [2, 4, 6, 8, 10],\n",
        "               'max_features': [2, 4, 6, 8, 10]}\n",
        "forest_grid = GridSearchCV(forest_model, param_grid)\n",
        "%time forest_grid.fit(X_train_scaled, y_train)\n",
        "print(forest_grid.best_params_)"
      ],
      "execution_count": 10,
      "outputs": [
        {
          "output_type": "stream",
          "text": [
            "CPU times: user 17.9 s, sys: 155 ms, total: 18.1 s\n",
            "Wall time: 18 s\n",
            "{'max_features': 2, 'min_samples_leaf': 2}\n"
          ],
          "name": "stdout"
        }
      ]
    },
    {
      "cell_type": "code",
      "metadata": {
        "id": "OS3KN6XfPbTw"
      },
      "source": [
        "# result of tuning the hyperparameters via cross-validation\n",
        "best_forest_model = forest_grid.best_estimator_\n",
        "X_test_scaled = scaler.fit_transform(X_test)\n",
        "yfit = best_forest_model.predict(X_test_scaled)"
      ],
      "execution_count": 11,
      "outputs": []
    },
    {
      "cell_type": "code",
      "metadata": {
        "colab": {
          "base_uri": "https://localhost:8080/"
        },
        "id": "a843JXWcPb4A",
        "outputId": "84a9aa78-c605-4200-ce55-0f5e9049e437"
      },
      "source": [
        "# classification report\n",
        "from sklearn.metrics import classification_report\n",
        "print(classification_report(y_test, yfit,\n",
        "                            target_names=data.target_names))"
      ],
      "execution_count": 12,
      "outputs": [
        {
          "output_type": "stream",
          "text": [
            "              precision    recall  f1-score   support\n",
            "\n",
            "     class_0       1.00      0.96      0.98        26\n",
            "     class_1       0.90      1.00      0.95        27\n",
            "     class_2       1.00      0.89      0.94        19\n",
            "\n",
            "    accuracy                           0.96        72\n",
            "   macro avg       0.97      0.95      0.96        72\n",
            "weighted avg       0.96      0.96      0.96        72\n",
            "\n"
          ],
          "name": "stdout"
        }
      ]
    },
    {
      "cell_type": "markdown",
      "metadata": {
        "id": "wB5bD2_lQbrp"
      },
      "source": [
        "###3.1) Conclusions\n",
        "*   Best model utilizes {'max_features': 2, 'min_samples_leaf': 2}\n",
        "*   Accuracy of model: 0.96\n",
        "*   Precision* of model: 1.00(class_0), 0.90(class_1), 1.00(class_2)\n",
        "*   Recall** of model: 0.96(class_0), 1.00(class_1), 0.89(class_2)\n",
        "\n",
        "According to our classification report, our model has an 96% accuracy which is significantly better than our previous model.  There was a huge difference between this model and the prevous model in precision (1.00, 0.90, 1.00 vs 0.93, 0.86, 0.71) and recall scores (0.96, 1.00, 0.89 vs 1.00, 0.86, 0.62) across the board.<br>\n",
        "\n",
        "\\*Percentage of correct guesses out of total guesses made onto that target class</br>\n",
        "\\**Percentage of correct guesses out of total elements in that target class"
      ]
    },
    {
      "cell_type": "markdown",
      "metadata": {
        "id": "-mJy77N7QhLm"
      },
      "source": [
        "##4) Support Vector Machines (SVM) model\n",
        "SVMs are supervised learning models with associated learning algorithms that analyze data for classification and regression analysis and are one of the most robust prediction methods, being based on statistical learning frameworks."
      ]
    },
    {
      "cell_type": "code",
      "metadata": {
        "id": "Zy9zfa25QjON"
      },
      "source": [
        "# same setup as the previous model\n",
        "X = data.data\n",
        "y = data.target\n",
        "\n",
        "X_train, X_test, y_train, y_test = train_test_split(X, y, test_size=0.4, random_state=42)"
      ],
      "execution_count": 13,
      "outputs": []
    },
    {
      "cell_type": "code",
      "metadata": {
        "colab": {
          "base_uri": "https://localhost:8080/"
        },
        "id": "FoaEfql4Qlfy",
        "outputId": "c6c659d8-54b4-4381-c766-ef90e6a04940"
      },
      "source": [
        "from sklearn.svm import SVC\n",
        "scaler = MinMaxScaler()\n",
        "X_train_scaled = scaler.fit_transform(X_train)\n",
        "\n",
        "svm_model = SVC(kernel='rbf')\n",
        "\n",
        "param_grid = {'C': [1, 5, 10, 50, 100],\n",
        "              'gamma': [0.0001, 0.0005, 0.001, 0.005, 0.01]}\n",
        "svm_grid = GridSearchCV(svm_model, param_grid)\n",
        "%time svm_grid.fit(X_train_scaled, y_train)\n",
        "print(svm_grid.best_params_)"
      ],
      "execution_count": 14,
      "outputs": [
        {
          "output_type": "stream",
          "text": [
            "CPU times: user 203 ms, sys: 961 µs, total: 204 ms\n",
            "Wall time: 207 ms\n",
            "{'C': 50, 'gamma': 0.01}\n"
          ],
          "name": "stdout"
        }
      ]
    },
    {
      "cell_type": "code",
      "metadata": {
        "id": "KjS9O-2FQnL6"
      },
      "source": [
        "# result of tuning the hyperparameters via cross-validation\n",
        "best_svm_model = svm_grid.best_estimator_\n",
        "X_test_scaled = scaler.fit_transform(X_test)\n",
        "yfit = best_svm_model.predict(X_test_scaled)"
      ],
      "execution_count": 15,
      "outputs": []
    },
    {
      "cell_type": "code",
      "metadata": {
        "colab": {
          "base_uri": "https://localhost:8080/"
        },
        "id": "O7pPV-0yQoPz",
        "outputId": "9346f6dd-3f88-497f-f658-3169324d34be"
      },
      "source": [
        "# classification report\n",
        "from sklearn.metrics import classification_report\n",
        "print(classification_report(y_test, yfit,\n",
        "                            target_names=data.target_names))"
      ],
      "execution_count": 16,
      "outputs": [
        {
          "output_type": "stream",
          "text": [
            "              precision    recall  f1-score   support\n",
            "\n",
            "     class_0       0.96      1.00      0.98        26\n",
            "     class_1       1.00      0.96      0.98        27\n",
            "     class_2       1.00      1.00      1.00        19\n",
            "\n",
            "    accuracy                           0.99        72\n",
            "   macro avg       0.99      0.99      0.99        72\n",
            "weighted avg       0.99      0.99      0.99        72\n",
            "\n"
          ],
          "name": "stdout"
        }
      ]
    },
    {
      "cell_type": "markdown",
      "metadata": {
        "id": "Aj4nlVa_Q2Kx"
      },
      "source": [
        "###4.1) Conclusions\n",
        "*   Best model utilizes {'C': 50, 'gamma': 0.01}\n",
        "*   Accuracy of model: 0.99\n",
        "*   Precision* of model: 0.96(class_0), 1.00(class_1), 1.00(class_2)\n",
        "*   Recall** of model: 1.00(class_0), 0.96(class_1), 1.00(class_2)\n",
        "\n",
        "According to our classification report, our model has an almost perfect 99% accuracy which outperformed our previous Random Forest model.  Our findings tells us that out of our large test dataset, the SVM model only misclassified one or two class_1 wine entries as a class_0 wine.<br>\n",
        "\n",
        "\\*Percentage of correct guesses out of total guesses made onto that target class</br>\n",
        "\\**Percentage of correct guesses out of total elements in that target class"
      ]
    },
    {
      "cell_type": "markdown",
      "metadata": {
        "id": "73mTYySyW6oz"
      },
      "source": [
        "##5) Ensemble model using VotingClassifer\n",
        "A Voting Classifier is a machine learning model that trains on an ensemble of numerous models and predicts an output (class) based on their highest probability of chosen class as the output."
      ]
    },
    {
      "cell_type": "code",
      "metadata": {
        "id": "GT9eWneAVRgZ"
      },
      "source": [
        "# same setup as the previous model\n",
        "X = data.data\n",
        "y = data.target\n",
        "\n",
        "X_train, X_test, y_train, y_test = train_test_split(X, y, test_size=0.4, random_state=42)\n",
        "\n",
        "from sklearn.svm import SVC\n",
        "scaler = MinMaxScaler()\n",
        "X_train_scaled = scaler.fit_transform(X_train)"
      ],
      "execution_count": 20,
      "outputs": []
    },
    {
      "cell_type": "code",
      "metadata": {
        "id": "tcID7X7uUIaK"
      },
      "source": [
        "from sklearn.ensemble import VotingClassifier\n",
        "\n",
        "best_voting_model = VotingClassifier(estimators=[('rf', best_forest_model), ('svc', best_svm_model)], voting='hard')"
      ],
      "execution_count": 21,
      "outputs": []
    },
    {
      "cell_type": "code",
      "metadata": {
        "colab": {
          "base_uri": "https://localhost:8080/"
        },
        "id": "0TwLPeV1UIx2",
        "outputId": "dff08926-e4e4-4447-9fd7-fdefc9fae36f"
      },
      "source": [
        "best_voting_model.fit(X_train_scaled, y_train)"
      ],
      "execution_count": 22,
      "outputs": [
        {
          "output_type": "execute_result",
          "data": {
            "text/plain": [
              "VotingClassifier(estimators=[('rf',\n",
              "                              RandomForestClassifier(bootstrap=True,\n",
              "                                                     ccp_alpha=0.0,\n",
              "                                                     class_weight=None,\n",
              "                                                     criterion='gini',\n",
              "                                                     max_depth=None,\n",
              "                                                     max_features=2,\n",
              "                                                     max_leaf_nodes=None,\n",
              "                                                     max_samples=None,\n",
              "                                                     min_impurity_decrease=0.0,\n",
              "                                                     min_impurity_split=None,\n",
              "                                                     min_samples_leaf=2,\n",
              "                                                     min_samples_split=2,\n",
              "                                                     min_weight_fraction_leaf=0.0,\n",
              "                                                     n_estimators=100,\n",
              "                                                     n_jobs=None,\n",
              "                                                     oob_score=False,\n",
              "                                                     random_state=42, verbose=0,\n",
              "                                                     warm_start=False)),\n",
              "                             ('svc',\n",
              "                              SVC(C=50, break_ties=False, cache_size=200,\n",
              "                                  class_weight=None, coef0=0.0,\n",
              "                                  decision_function_shape='ovr', degree=3,\n",
              "                                  gamma=0.01, kernel='rbf', max_iter=-1,\n",
              "                                  probability=False, random_state=None,\n",
              "                                  shrinking=True, tol=0.001, verbose=False))],\n",
              "                 flatten_transform=True, n_jobs=None, voting='hard',\n",
              "                 weights=None)"
            ]
          },
          "metadata": {
            "tags": []
          },
          "execution_count": 22
        }
      ]
    },
    {
      "cell_type": "code",
      "metadata": {
        "colab": {
          "base_uri": "https://localhost:8080/"
        },
        "id": "h0AyW50iUKJl",
        "outputId": "9cc81bbb-8f10-44cb-f0c9-3f49418a56b5"
      },
      "source": [
        "from sklearn.metrics import accuracy_score\n",
        "\n",
        "for model in (best_forest_model, best_svm_model, best_voting_model):\n",
        "    model.fit(X_train_scaled, y_train)\n",
        "    y_pred = model.predict(X_test_scaled)\n",
        "    print(model.__class__.__name__, accuracy_score(y_test, y_pred))"
      ],
      "execution_count": 23,
      "outputs": [
        {
          "output_type": "stream",
          "text": [
            "RandomForestClassifier 0.9583333333333334\n",
            "SVC 0.9861111111111112\n",
            "VotingClassifier 0.9583333333333334\n"
          ],
          "name": "stdout"
        }
      ]
    },
    {
      "cell_type": "markdown",
      "metadata": {
        "id": "lEYK62zuV1DE"
      },
      "source": [
        "###5.1) Conclusions\n",
        "The Ensemble model suprisingly performed the same as the RF model with an accuracy rating of ~96% while the SVC model performed the highest with ~99% accuracy."
      ]
    },
    {
      "cell_type": "markdown",
      "metadata": {
        "id": "w6Tu3TupWVKw"
      },
      "source": [
        "##6) Compare the results from all the models"
      ]
    },
    {
      "cell_type": "markdown",
      "metadata": {
        "id": "ZjfDNwhaWSQT"
      },
      "source": [
        "**Accuracy Ratings**\n",
        "*   Baseline Decision Tree model: 86%\n",
        "*   Random Forest model: 96%\n",
        "*   Support Vector Machine model: 99%\n",
        "*   Ensemble model using VotingClassifier: 96%\n",
        "\n",
        "Suprisingly, the Ensemble model did not outperform the SVM model and only tied with the Random Forest model when classifying scikit-learn's wine dataset.  The SVM had the highest accuracy rating on our test data with a near flawless 99% accuracy."
      ]
    }
  ]
}